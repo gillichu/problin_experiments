{
 "cells": [
  {
   "cell_type": "code",
   "execution_count": 29,
   "id": "94817cba-7158-4657-a644-edbffdcec90c",
   "metadata": {},
   "outputs": [
    {
     "name": "stdout",
     "output_type": "stream",
     "text": [
      "The autoreload extension is already loaded. To reload it, use:\n",
      "  %reload_ext autoreload\n"
     ]
    }
   ],
   "source": [
    "import pandas as pd\n",
    "import sys\n",
    "import argparse\n",
    "import itertools\n",
    "import math\n",
    "import numpy as np\n",
    "import seaborn as sns\n",
    "from matplotlib import pyplot as plt\n",
    "import cassiopeia as cass\n",
    "import os\n",
    "import json\n",
    "import networkx as nx\n",
    "import itertools\n",
    "import ete3\n",
    "\n",
    "import itertools\n",
    "from collections import Counter\n",
    "from collections import defaultdict\n",
    "from collections import deque\n",
    "from Bio import Phylo\n",
    "\n",
    "import subprocess\n",
    "\n",
    "from utilities import *\n",
    "%load_ext autoreload\n",
    "%autoreload 2\n",
    "\n",
    "#import gurobipy as gp"
   ]
  },
  {
   "cell_type": "markdown",
   "id": "135f115a-f327-4d9b-9317-6f1f55b02287",
   "metadata": {},
   "source": [
    "# Helper Functions"
   ]
  },
  {
   "cell_type": "code",
   "execution_count": 19,
   "id": "0a0fda91-7743-4756-954b-d7b9e6e21d82",
   "metadata": {},
   "outputs": [],
   "source": [
    "def get_smaller_tree(tree, cell_site_info):\n",
    "\n",
    "    mod_tree = tree.copy()\n",
    "    leaves_to_remove = []\n",
    "    for node in mod_tree.nodes:\n",
    "        leaf_site_list = []\n",
    "        \n",
    "        for child in mod_tree[node]:\n",
    "            if is_leaf(mod_tree, child):\n",
    "                leaf_site = cell_site_info[child]\n",
    "                if leaf_site not in leaf_site_list:\n",
    "                    leaf_site_list.append(leaf_site)\n",
    "                else:\n",
    "                    leaves_to_remove.append(child)\n",
    "    \n",
    "    for leaf in leaves_to_remove:\n",
    "        mod_tree.remove_node(leaf)\n",
    "    print(f\"removing {len(leaves_to_remove)}\")\n",
    "    return mod_tree"
   ]
  },
  {
   "cell_type": "code",
   "execution_count": 20,
   "id": "917d4ea9-7900-4500-89cc-810281ae2626",
   "metadata": {},
   "outputs": [],
   "source": [
    "def update_parsimonious_labeling_counts(T, cell_site_info, state_list, cost_labeling, count_labeling, node):\n",
    "    if is_leaf(T, node):\n",
    "        for state_idx, state in enumerate(state_list):\n",
    "            if state == cell_site_info[node]:\n",
    "                cost_labeling[node][state_idx] = 0\n",
    "                count_labeling[node][state_idx] = 1\n",
    "            else:\n",
    "                cost_labeling[node][state_idx] = np.inf\n",
    "                count_labeling[node][state_idx] = 0\n",
    "    else:\n",
    "        for child in T[node]:\n",
    "            update_parsimonious_labeling_counts(T, cell_site_info, state_list, cost_labeling, count_labeling, child)\n",
    "        \n",
    "        for parent_state_idx, state in enumerate(state_list):\n",
    "            cost_labeling[node][parent_state_idx] = 0\n",
    "            count_labeling[node][parent_state_idx] = 1\n",
    "            for child in T[node]:\n",
    "                min_cost = np.inf\n",
    "                for child_state_idx, child_state in enumerate(state_list):\n",
    "                    if child_state_idx == parent_state_idx:\n",
    "                        curr_cost = cost_labeling[child][child_state_idx]\n",
    "                    else:\n",
    "                        curr_cost = cost_labeling[child][child_state_idx] + 1\n",
    "\n",
    "                    if curr_cost < min_cost:\n",
    "                        min_cost = curr_cost\n",
    "                        min_child_state_idx = child_state_idx\n",
    "\n",
    "                cost_labeling[node][parent_state_idx] += min_cost\n",
    "\n",
    "                curr_child_total_count = 0\n",
    "                for child_state_idx, child_state in enumerate(state_list):\n",
    "                    if child_state_idx == parent_state_idx:\n",
    "                        curr_cost = cost_labeling[child][child_state_idx]\n",
    "                    else:\n",
    "                        curr_cost = cost_labeling[child][child_state_idx] + 1\n",
    "\n",
    "                    if curr_cost == min_cost:\n",
    "                        curr_child_total_count += count_labeling[child][child_state_idx]\n",
    "\n",
    "                count_labeling[node][parent_state_idx] *= curr_child_total_count\n"
   ]
  },
  {
   "cell_type": "code",
   "execution_count": 21,
   "id": "37d3de7b-9b7d-4682-afc4-c1a5b44de746",
   "metadata": {},
   "outputs": [],
   "source": [
    "def count_parsimonious_labelings(T, cell_site_info):\n",
    "    state_list = list(cell_site_info.unique())\n",
    "    nstates = len(state_list)\n",
    "    # state_transition_counter = Counter()\n",
    "    node_cost_labeling = {node:[None]*nstates for node in T.nodes}\n",
    "    # print(T.nodes)\n",
    "    # print(node_cost_labeling['root'])\n",
    "    node_count_labeling = {node:[None]*nstates for node in T.nodes}\n",
    "    update_parsimonious_labeling_counts(T, cell_site_info, state_list, node_cost_labeling, node_count_labeling, 'root')\n",
    "    \n",
    "    return node_cost_labeling, node_count_labeling"
   ]
  },
  {
   "cell_type": "code",
   "execution_count": 22,
   "id": "4e11c401-9118-47e6-b215-393fce362fca",
   "metadata": {},
   "outputs": [],
   "source": [
    "def computeG(T, cell_site_info, state_list, cost_labeling, presence_labeling, node):\n",
    "    min_cost = min(cost_labeling[node])\n",
    "    if node == 'root':\n",
    "         for state_idx in range(len(state_list)):\n",
    "                if cost_labeling[node][state_idx] == min_cost:\n",
    "                    presence_labeling[node][state_idx] = 1\n",
    "                else:\n",
    "                    presence_labeling[node][state_idx] = 0\n",
    "    else:\n",
    "        \n",
    "        parent_node = list(T.pred[node])[0]\n",
    "        \n",
    "        for state_idx in range(len(state_list)):\n",
    "            presence_labeling[node][state_idx] = 0\n",
    "        \n",
    "        for parent_state_idx in range(len(state_list)):\n",
    "            if presence_labeling[parent_node][parent_state_idx] == 1:\n",
    "\n",
    "                min_cost = np.inf\n",
    "                for child_state_idx, child_state in enumerate(state_list):\n",
    "                    if child_state_idx == parent_state_idx:\n",
    "                        curr_cost = cost_labeling[node][child_state_idx]\n",
    "                    else:\n",
    "                        curr_cost = cost_labeling[node][child_state_idx] + 1\n",
    "\n",
    "                    if curr_cost < min_cost:\n",
    "                        min_cost = curr_cost\n",
    "        \n",
    "                for child_state_idx in range(len(state_list)):\n",
    "                    if child_state_idx == parent_state_idx:\n",
    "                        curr_cost = cost_labeling[node][child_state_idx]\n",
    "                    else:\n",
    "                        curr_cost = cost_labeling[node][child_state_idx] + 1\n",
    "                        \n",
    "                    if curr_cost == min_cost:\n",
    "                        presence_labeling[node][child_state_idx] = 1\n",
    "                \n",
    "\n",
    "    for child in T[node]:\n",
    "        computeG(T, cell_site_info, state_list, cost_labeling, presence_labeling, child)"
   ]
  },
  {
   "cell_type": "markdown",
   "id": "893624f1-a65d-48f9-bd03-b5df4928d81b",
   "metadata": {},
   "source": [
    "# Read in Inputs"
   ]
  },
  {
   "cell_type": "code",
   "execution_count": 82,
   "id": "fd07810b",
   "metadata": {},
   "outputs": [],
   "source": [
    "df_kp_meta = pd.read_csv(f'KPTracer_meta.csv', index_col = 0)"
   ]
  },
  {
   "cell_type": "code",
   "execution_count": 83,
   "id": "7d5f5b32-ad75-4e81-a6ed-0de2da51c26f",
   "metadata": {},
   "outputs": [],
   "source": [
    "df_character_matrix_Fam_1 = pd.read_csv('3724_NT_All_character_matrix.txt',\n",
    "                                        index_col = 0, sep='\\t', dtype=str)\n",
    "df_character_matrix_Fam_1 = df_character_matrix_Fam_1.replace('-', '-1')"
   ]
  },
  {
   "cell_type": "code",
   "execution_count": 84,
   "id": "261b4fc7-5109-4f72-9a8d-171bfc3fe39d",
   "metadata": {},
   "outputs": [],
   "source": [
    "cell_site_info_1 = df_kp_meta.loc[df_character_matrix_Fam_1.index]['SubTumor']\n",
    "for cell, site in cell_site_info_1.items():\n",
    "    # if site.startswith('3513_NT_T'):\n",
    "        # cell_site_info[cell] = 'primary'\n",
    "    if len(site.split('_')) > 3:\n",
    "        cell_site_info_1[cell] = '_'.join(site.split('_')[:-1])"
   ]
  },
  {
   "cell_type": "code",
   "execution_count": 36,
   "id": "c7f353b0-7f56-4258-8a4b-fb4f3059c955",
   "metadata": {},
   "outputs": [],
   "source": [
    "# the published cassiopeia tree, 21,108 nodes\n",
    "cassh_21108 = from_newick_get_nx_tree('../published/casshybrid.nwk')\n",
    "\n",
    "# the published startle tree, 21,108 nodes\n",
    "startle_21108 = from_newick_get_nx_tree('../published/startle.nwk')\n",
    "\n",
    "# the full problin tree, 21,108 nodes\n",
    "problin_21108 = from_newick_get_nx_tree('../pruned_resolved/problin_pruned_resolved_21108.nwk')"
   ]
  },
  {
   "cell_type": "code",
   "execution_count": 52,
   "id": "e61a7087-ac45-40df-b730-179491808016",
   "metadata": {},
   "outputs": [],
   "source": [
    "# the deduplicated cassiopeia tree, 1461 nodes\n",
    "cassh_1461 = from_newick_get_nx_tree('../pruned_1461/casshybrid_1461.nwk')\n",
    "\n",
    "# the deduplicated startle tree, 1461 nodes\n",
    "startle_1461 = from_newick_get_nx_tree('../pruned_1461/startle_1461.nwk')\n",
    "\n",
    "# the deduplicated problin tree, 1461 nodes\n",
    "problin_1461 = from_newick_get_nx_tree('../pruned_1461/problin_1461.nwk')"
   ]
  },
  {
   "cell_type": "code",
   "execution_count": 54,
   "id": "ec4fd9c5",
   "metadata": {},
   "outputs": [],
   "source": [
    "# the cassiopeia tree with all identical sequences placed as polytomies\n",
    "cassh_21108_replaced = from_newick_get_nx_tree('../identical_polytomies/casshybrid_pruned_resolved_21108.nwk')\n",
    "\n",
    "# the startle tree with all identical sequences placed as polytomies\n",
    "startle_21108_replaced = from_newick_get_nx_tree('../identical_polytomies/startle_pruned_resolved_21108.nwk')\n"
   ]
  },
  {
   "cell_type": "markdown",
   "id": "770f8d5f-00c7-45a7-b42a-c1f88fe2d7de",
   "metadata": {},
   "source": [
    "# Set up Functions"
   ]
  },
  {
   "cell_type": "code",
   "execution_count": 44,
   "id": "98e3d1d3-92bd-41c6-944c-36e1cc1139d0",
   "metadata": {},
   "outputs": [],
   "source": [
    "\n",
    "def count_transitions(input_tree, cell_site_info, throw_out_identical_sites=False):\n",
    "    num_leaves = 0\n",
    "    for n in input_tree.nodes:\n",
    "        if is_leaf(input_tree, n): \n",
    "            num_leaves += 1\n",
    "    \n",
    "    print(f\"input tree has {len(input_tree.nodes)} nodes and {num_leaves} leaves\")\n",
    "    if throw_out_identical_sites:\n",
    "        input_tree = get_smaller_tree(input_tree, cell_site_info_1)\n",
    "        print(f\"modified tree has {len(input_tree.nodes)} nodes\") \n",
    "    \n",
    "    num_leaves = 0\n",
    "    for n in input_tree.nodes:\n",
    "        if is_leaf(input_tree, n): \n",
    "            num_leaves += 1\n",
    "    print(f\"modified tree has {num_leaves} leaves\")\n",
    "    cost_labeling, count_labeling = count_parsimonious_labelings(input_tree, cell_site_info)\n",
    "    state_list = list(cell_site_info.unique())\n",
    "    nstates = len(state_list)\n",
    "    presence_labeling = {node:[None]*nstates for node in input_tree.nodes}\n",
    "    computeG(input_tree, cell_site_info, state_list, cost_labeling, presence_labeling, 'root')\n",
    "\n",
    "    optimal_labeling = {node:'' for node in input_tree.nodes}\n",
    "\n",
    "    for node in input_tree.nodes:\n",
    "        if presence_labeling[node][0] == 1:\n",
    "            optimal_labeling[node] = 0\n",
    "        else:\n",
    "            optimal_labeling[node] = np.where(presence_labeling[node])[0][0]\n",
    "\n",
    "    num_transitions = Counter()\n",
    "    for edge in input_tree.edges:\n",
    "        if optimal_labeling[edge[0]] != optimal_labeling[edge[1]]:\n",
    "            num_transitions[(optimal_labeling[edge[0]], optimal_labeling[edge[1]])] += 1\n",
    "\n",
    "    return num_transitions, sum(num_transitions.values())\n"
   ]
  },
  {
   "cell_type": "markdown",
   "id": "26214740-dbf1-43ac-8e65-8b05d1ae5957",
   "metadata": {},
   "source": [
    "# Full Trees Polytomies"
   ]
  },
  {
   "cell_type": "code",
   "execution_count": 45,
   "id": "598189cc-f30c-4b4c-acc2-6da5c25f77b1",
   "metadata": {},
   "outputs": [
    {
     "name": "stdout",
     "output_type": "stream",
     "text": [
      "input tree has 22748 nodes and 21108 leaves\n",
      "modified tree has 21108 leaves\n"
     ]
    },
    {
     "data": {
      "text/plain": [
       "(Counter({(0, 1): 19,\n",
       "          (0, 4): 71,\n",
       "          (0, 3): 13,\n",
       "          (1, 0): 175,\n",
       "          (0, 2): 1261,\n",
       "          (1, 4): 2,\n",
       "          (3, 0): 28,\n",
       "          (1, 2): 2,\n",
       "          (1, 3): 1,\n",
       "          (2, 0): 15,\n",
       "          (2, 4): 1,\n",
       "          (3, 2): 6,\n",
       "          (3, 4): 1,\n",
       "          (4, 0): 4,\n",
       "          (3, 1): 1}),\n",
       " 1600)"
      ]
     },
     "execution_count": 45,
     "metadata": {},
     "output_type": "execute_result"
    }
   ],
   "source": [
    "# migration cost, cassiopeia\n",
    "\n",
    "count_transitions(cassh_21108, cell_site_info_1)"
   ]
  },
  {
   "cell_type": "code",
   "execution_count": 46,
   "id": "52d05eb6-ee8c-42be-a080-057b3b8f7ca1",
   "metadata": {},
   "outputs": [
    {
     "name": "stdout",
     "output_type": "stream",
     "text": [
      "input tree has 21816 nodes and 21108 leaves\n",
      "modified tree has 21108 leaves\n"
     ]
    },
    {
     "data": {
      "text/plain": [
       "(Counter({(0, 1): 16,\n",
       "          (1, 0): 356,\n",
       "          (0, 4): 84,\n",
       "          (0, 3): 15,\n",
       "          (0, 2): 1260,\n",
       "          (1, 2): 2,\n",
       "          (1, 3): 1,\n",
       "          (1, 4): 2,\n",
       "          (3, 0): 24,\n",
       "          (2, 0): 14,\n",
       "          (2, 4): 1,\n",
       "          (3, 1): 1,\n",
       "          (3, 2): 6,\n",
       "          (3, 4): 1}),\n",
       " 1783)"
      ]
     },
     "execution_count": 46,
     "metadata": {},
     "output_type": "execute_result"
    }
   ],
   "source": [
    "# migration cost, startle\n",
    "\n",
    "count_transitions(startle_21108, cell_site_info_1)"
   ]
  },
  {
   "cell_type": "code",
   "execution_count": 48,
   "id": "39c3a3f2-52fa-4a57-aea3-1d5bde02ba1f",
   "metadata": {},
   "outputs": [
    {
     "name": "stdout",
     "output_type": "stream",
     "text": [
      "input tree has 24029 nodes and 21108 leaves\n",
      "modified tree has 21108 leaves\n"
     ]
    },
    {
     "data": {
      "text/plain": [
       "(Counter({(0, 4): 72,\n",
       "          (0, 1): 30,\n",
       "          (0, 3): 17,\n",
       "          (1, 0): 150,\n",
       "          (1, 2): 2,\n",
       "          (0, 2): 1244,\n",
       "          (2, 0): 18,\n",
       "          (2, 4): 1,\n",
       "          (3, 1): 1,\n",
       "          (3, 2): 6,\n",
       "          (3, 0): 20,\n",
       "          (1, 4): 2,\n",
       "          (3, 4): 1,\n",
       "          (4, 0): 3,\n",
       "          (1, 3): 1}),\n",
       " 1568)"
      ]
     },
     "execution_count": 48,
     "metadata": {},
     "output_type": "execute_result"
    }
   ],
   "source": [
    "# migration cost, problin\n",
    "\n",
    "count_transitions(problin_21108, cell_site_info_1)"
   ]
  },
  {
   "cell_type": "markdown",
   "id": "ffe59ed2-cc04-479c-9c05-39de4f494c5e",
   "metadata": {},
   "source": [
    "# Deduplicated to 1461 Leaves"
   ]
  },
  {
   "cell_type": "code",
   "execution_count": 49,
   "id": "2e1f0554-1486-4411-a9f8-172fded5484c",
   "metadata": {},
   "outputs": [
    {
     "name": "stdout",
     "output_type": "stream",
     "text": [
      "input tree has 2800 nodes and 1461 leaves\n",
      "modified tree has 1461 leaves\n"
     ]
    },
    {
     "data": {
      "text/plain": [
       "(Counter({(0, 1): 15,\n",
       "          (0, 4): 9,\n",
       "          (0, 3): 7,\n",
       "          (1, 0): 57,\n",
       "          (3, 0): 11,\n",
       "          (0, 2): 36,\n",
       "          (1, 2): 1}),\n",
       " 136)"
      ]
     },
     "execution_count": 49,
     "metadata": {},
     "output_type": "execute_result"
    }
   ],
   "source": [
    "# migration cost, cassiopeia\n",
    "\n",
    "count_transitions(cassh_1461, cell_site_info_1)"
   ]
  },
  {
   "cell_type": "code",
   "execution_count": 50,
   "id": "f8c69024-f8b9-472c-a84b-78f26bdfa48f",
   "metadata": {},
   "outputs": [
    {
     "name": "stdout",
     "output_type": "stream",
     "text": [
      "input tree has 1872 nodes and 1461 leaves\n",
      "modified tree has 1461 leaves\n"
     ]
    },
    {
     "data": {
      "text/plain": [
       "(Counter({(0, 1): 9,\n",
       "          (1, 0): 48,\n",
       "          (0, 4): 9,\n",
       "          (0, 3): 9,\n",
       "          (0, 2): 35,\n",
       "          (1, 2): 1,\n",
       "          (3, 0): 8}),\n",
       " 119)"
      ]
     },
     "execution_count": 50,
     "metadata": {},
     "output_type": "execute_result"
    }
   ],
   "source": [
    "# migration cost, startle\n",
    "\n",
    "count_transitions(startle_1461, cell_site_info_1, False)"
   ]
  },
  {
   "cell_type": "code",
   "execution_count": 51,
   "id": "28f020a1-ce17-46a9-9e6e-35c5dc722d1b",
   "metadata": {},
   "outputs": [
    {
     "name": "stdout",
     "output_type": "stream",
     "text": [
      "input tree has 2921 nodes and 1461 leaves\n",
      "modified tree has 1461 leaves\n"
     ]
    },
    {
     "data": {
      "text/plain": [
       "(Counter({(0, 4): 9,\n",
       "          (0, 1): 15,\n",
       "          (0, 3): 11,\n",
       "          (1, 0): 37,\n",
       "          (0, 2): 19,\n",
       "          (3, 0): 4,\n",
       "          (2, 0): 3,\n",
       "          (1, 2): 1}),\n",
       " 99)"
      ]
     },
     "execution_count": 51,
     "metadata": {},
     "output_type": "execute_result"
    }
   ],
   "source": [
    "# migration cost, problin\n",
    "\n",
    "\n",
    "count_transitions(problin_1461, cell_site_info_1, False)"
   ]
  },
  {
   "cell_type": "markdown",
   "id": "f982d6a1",
   "metadata": {},
   "source": [
    "# Deduplicated then replace identical sequences as polytomies"
   ]
  },
  {
   "cell_type": "code",
   "execution_count": 55,
   "id": "07ad0f6b",
   "metadata": {},
   "outputs": [
    {
     "name": "stdout",
     "output_type": "stream",
     "text": [
      "input tree has 23908 nodes and 21108 leaves\n",
      "modified tree has 21108 leaves\n"
     ]
    },
    {
     "data": {
      "text/plain": [
       "(Counter({(0, 1): 21,\n",
       "          (0, 4): 71,\n",
       "          (0, 3): 13,\n",
       "          (1, 0): 173,\n",
       "          (3, 0): 28,\n",
       "          (0, 2): 1261,\n",
       "          (1, 4): 2,\n",
       "          (1, 3): 1,\n",
       "          (1, 2): 2,\n",
       "          (2, 4): 1,\n",
       "          (2, 0): 14,\n",
       "          (4, 0): 4,\n",
       "          (3, 4): 1,\n",
       "          (3, 2): 6,\n",
       "          (3, 1): 1}),\n",
       " 1599)"
      ]
     },
     "execution_count": 55,
     "metadata": {},
     "output_type": "execute_result"
    }
   ],
   "source": [
    "# migration cost, cassiopeia\n",
    "\n",
    "count_transitions(cassh_21108_replaced, cell_site_info_1)"
   ]
  },
  {
   "cell_type": "code",
   "execution_count": 85,
   "id": "83790951",
   "metadata": {},
   "outputs": [
    {
     "name": "stdout",
     "output_type": "stream",
     "text": [
      "input tree has 22980 nodes and 21108 leaves\n",
      "modified tree has 21108 leaves\n"
     ]
    },
    {
     "data": {
      "text/plain": [
       "(Counter({(0, 1): 21,\n",
       "          (1, 0): 162,\n",
       "          (0, 4): 72,\n",
       "          (0, 3): 15,\n",
       "          (0, 2): 1260,\n",
       "          (1, 2): 2,\n",
       "          (1, 3): 1,\n",
       "          (1, 4): 2,\n",
       "          (3, 0): 24,\n",
       "          (2, 0): 14,\n",
       "          (2, 4): 1,\n",
       "          (3, 1): 1,\n",
       "          (3, 2): 6,\n",
       "          (3, 4): 1,\n",
       "          (4, 0): 3}),\n",
       " 1585)"
      ]
     },
     "execution_count": 85,
     "metadata": {},
     "output_type": "execute_result"
    }
   ],
   "source": [
    "# migration cost, startle\n",
    "\n",
    "count_transitions(startle_21108_replaced, cell_site_info_1)"
   ]
  },
  {
   "cell_type": "code",
   "execution_count": null,
   "id": "76f2ea38",
   "metadata": {},
   "outputs": [],
   "source": []
  }
 ],
 "metadata": {
  "kernelspec": {
   "display_name": "Python 3 (ipykernel)",
   "language": "python",
   "name": "python3"
  },
  "language_info": {
   "codemirror_mode": {
    "name": "ipython",
    "version": 3
   },
   "file_extension": ".py",
   "mimetype": "text/x-python",
   "name": "python",
   "nbconvert_exporter": "python",
   "pygments_lexer": "ipython3",
   "version": "3.9.12"
  }
 },
 "nbformat": 4,
 "nbformat_minor": 5
}
