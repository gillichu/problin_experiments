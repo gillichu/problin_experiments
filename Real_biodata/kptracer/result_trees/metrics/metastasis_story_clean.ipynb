{
 "cells": [
  {
   "cell_type": "code",
   "execution_count": 1,
   "id": "94817cba-7158-4657-a644-edbffdcec90c",
   "metadata": {},
   "outputs": [],
   "source": [
    "import pandas as pd\n",
    "import sys\n",
    "import argparse\n",
    "import itertools\n",
    "import math\n",
    "import numpy as np\n",
    "import seaborn as sns\n",
    "from matplotlib import pyplot as plt\n",
    "import cassiopeia as cass\n",
    "import os\n",
    "import json\n",
    "import networkx as nx\n",
    "import itertools\n",
    "import ete3\n",
    "\n",
    "import itertools\n",
    "from collections import Counter\n",
    "from collections import defaultdict\n",
    "from collections import deque\n",
    "from Bio import Phylo\n",
    "\n",
    "import subprocess\n",
    "\n",
    "from utilities import *\n",
    "%load_ext autoreload\n",
    "%autoreload 2\n",
    "\n",
    "import gurobipy as gp"
   ]
  },
  {
   "cell_type": "markdown",
   "id": "135f115a-f327-4d9b-9317-6f1f55b02287",
   "metadata": {},
   "source": [
    "# Helper Functions"
   ]
  },
  {
   "cell_type": "code",
   "execution_count": 2,
   "id": "0a0fda91-7743-4756-954b-d7b9e6e21d82",
   "metadata": {},
   "outputs": [],
   "source": [
    "def get_smaller_tree(tree, cell_site_info):\n",
    "\n",
    "    mod_tree = tree.copy()\n",
    "    leaves_to_remove = []\n",
    "    for node in mod_tree.nodes:\n",
    "        leaf_site_list = []\n",
    "        \n",
    "        for child in mod_tree[node]:\n",
    "            if is_leaf(mod_tree, child):\n",
    "                leaf_site = cell_site_info[child]\n",
    "                if leaf_site not in leaf_site_list:\n",
    "                    leaf_site_list.append(leaf_site)\n",
    "                else:\n",
    "                    leaves_to_remove.append(child)\n",
    "    \n",
    "    for leaf in leaves_to_remove:\n",
    "        mod_tree.remove_node(leaf)\n",
    "    print(f\"removing {len(leaves_to_remove)}\")\n",
    "    return mod_tree"
   ]
  },
  {
   "cell_type": "code",
   "execution_count": 3,
   "id": "917d4ea9-7900-4500-89cc-810281ae2626",
   "metadata": {},
   "outputs": [],
   "source": [
    "def update_parsimonious_labeling_counts(T, cell_site_info, state_list, cost_labeling, count_labeling, node):\n",
    "    if is_leaf(T, node):\n",
    "        for state_idx, state in enumerate(state_list):\n",
    "            if state == cell_site_info[node]:\n",
    "                cost_labeling[node][state_idx] = 0\n",
    "                count_labeling[node][state_idx] = 1\n",
    "            else:\n",
    "                cost_labeling[node][state_idx] = np.inf\n",
    "                count_labeling[node][state_idx] = 0\n",
    "    else:\n",
    "        for child in T[node]:\n",
    "            update_parsimonious_labeling_counts(T, cell_site_info, state_list, cost_labeling, count_labeling, child)\n",
    "        \n",
    "        for parent_state_idx, state in enumerate(state_list):\n",
    "            cost_labeling[node][parent_state_idx] = 0\n",
    "            count_labeling[node][parent_state_idx] = 1\n",
    "            for child in T[node]:\n",
    "                min_cost = np.inf\n",
    "                for child_state_idx, child_state in enumerate(state_list):\n",
    "                    if child_state_idx == parent_state_idx:\n",
    "                        curr_cost = cost_labeling[child][child_state_idx]\n",
    "                    else:\n",
    "                        curr_cost = cost_labeling[child][child_state_idx] + 1\n",
    "\n",
    "                    if curr_cost < min_cost:\n",
    "                        min_cost = curr_cost\n",
    "                        min_child_state_idx = child_state_idx\n",
    "\n",
    "                cost_labeling[node][parent_state_idx] += min_cost\n",
    "\n",
    "                curr_child_total_count = 0\n",
    "                for child_state_idx, child_state in enumerate(state_list):\n",
    "                    if child_state_idx == parent_state_idx:\n",
    "                        curr_cost = cost_labeling[child][child_state_idx]\n",
    "                    else:\n",
    "                        curr_cost = cost_labeling[child][child_state_idx] + 1\n",
    "\n",
    "                    if curr_cost == min_cost:\n",
    "                        curr_child_total_count += count_labeling[child][child_state_idx]\n",
    "\n",
    "                count_labeling[node][parent_state_idx] *= curr_child_total_count\n"
   ]
  },
  {
   "cell_type": "code",
   "execution_count": 4,
   "id": "37d3de7b-9b7d-4682-afc4-c1a5b44de746",
   "metadata": {},
   "outputs": [],
   "source": [
    "def count_parsimonious_labelings(T, cell_site_info):\n",
    "    state_list = list(cell_site_info.unique())\n",
    "    nstates = len(state_list)\n",
    "    # state_transition_counter = Counter()\n",
    "    node_cost_labeling = {node:[None]*nstates for node in T.nodes}\n",
    "    # print(T.nodes)\n",
    "    # print(node_cost_labeling['root'])\n",
    "    node_count_labeling = {node:[None]*nstates for node in T.nodes}\n",
    "    update_parsimonious_labeling_counts(T, cell_site_info, state_list, node_cost_labeling, node_count_labeling, 'root')\n",
    "    \n",
    "    return node_cost_labeling, node_count_labeling"
   ]
  },
  {
   "cell_type": "code",
   "execution_count": 5,
   "id": "4e11c401-9118-47e6-b215-393fce362fca",
   "metadata": {},
   "outputs": [],
   "source": [
    "def computeG(T, cell_site_info, state_list, cost_labeling, presence_labeling, node):\n",
    "    min_cost = min(cost_labeling[node])\n",
    "    if node == 'root':\n",
    "         for state_idx in range(len(state_list)):\n",
    "                if cost_labeling[node][state_idx] == min_cost:\n",
    "                    presence_labeling[node][state_idx] = 1\n",
    "                else:\n",
    "                    presence_labeling[node][state_idx] = 0\n",
    "    else:\n",
    "        \n",
    "        parent_node = list(T.pred[node])[0]\n",
    "        \n",
    "        for state_idx in range(len(state_list)):\n",
    "            presence_labeling[node][state_idx] = 0\n",
    "        \n",
    "        for parent_state_idx in range(len(state_list)):\n",
    "            if presence_labeling[parent_node][parent_state_idx] == 1:\n",
    "\n",
    "                min_cost = np.inf\n",
    "                for child_state_idx, child_state in enumerate(state_list):\n",
    "                    if child_state_idx == parent_state_idx:\n",
    "                        curr_cost = cost_labeling[node][child_state_idx]\n",
    "                    else:\n",
    "                        curr_cost = cost_labeling[node][child_state_idx] + 1\n",
    "\n",
    "                    if curr_cost < min_cost:\n",
    "                        min_cost = curr_cost\n",
    "        \n",
    "                for child_state_idx in range(len(state_list)):\n",
    "                    if child_state_idx == parent_state_idx:\n",
    "                        curr_cost = cost_labeling[node][child_state_idx]\n",
    "                    else:\n",
    "                        curr_cost = cost_labeling[node][child_state_idx] + 1\n",
    "                        \n",
    "                    if curr_cost == min_cost:\n",
    "                        presence_labeling[node][child_state_idx] = 1\n",
    "                \n",
    "\n",
    "    for child in T[node]:\n",
    "        computeG(T, cell_site_info, state_list, cost_labeling, presence_labeling, child)"
   ]
  },
  {
   "cell_type": "markdown",
   "id": "893624f1-a65d-48f9-bd03-b5df4928d81b",
   "metadata": {},
   "source": [
    "# Read in Inputs"
   ]
  },
  {
   "cell_type": "code",
   "execution_count": 6,
   "id": "7653b035-e64e-4513-96f8-9366fa2ff316",
   "metadata": {},
   "outputs": [],
   "source": [
    "df_kp_meta = pd.read_csv(f'/n/fs/ragr-data/users/palash/multi-linTracer/kp_data/KPTracer-Data/KPTracer_meta.csv', index_col = 0)"
   ]
  },
  {
   "cell_type": "code",
   "execution_count": 7,
   "id": "7d5f5b32-ad75-4e81-a6ed-0de2da51c26f",
   "metadata": {},
   "outputs": [],
   "source": [
    "df_character_matrix_Fam_1 = pd.read_csv('/n/fs/ragr-data/users/palash/multi-linTracer/kp_data/KPTracer-Data/trees/3724_NT_All_character_matrix.txt',\n",
    "                                        index_col = 0, sep='\\t', dtype=str)\n",
    "df_character_matrix_Fam_1 = df_character_matrix_Fam_1.replace('-', '-1')"
   ]
  },
  {
   "cell_type": "code",
   "execution_count": 8,
   "id": "261b4fc7-5109-4f72-9a8d-171bfc3fe39d",
   "metadata": {},
   "outputs": [],
   "source": [
    "cell_site_info_1 = df_kp_meta.loc[df_character_matrix_Fam_1.index]['SubTumor']\n",
    "for cell, site in cell_site_info_1.items():\n",
    "    # if site.startswith('3513_NT_T'):\n",
    "        # cell_site_info[cell] = 'primary'\n",
    "    if len(site.split('_')) > 3:\n",
    "        cell_site_info_1[cell] = '_'.join(site.split('_')[:-1])"
   ]
  },
  {
   "cell_type": "code",
   "execution_count": 9,
   "id": "f1205807-e756-47c9-ad79-aaae1d3f262e",
   "metadata": {},
   "outputs": [],
   "source": [
    "cell_site_info_1.to_csv('cell_annotations.csv', sep=',')"
   ]
  },
  {
   "cell_type": "code",
   "execution_count": 10,
   "id": "c7f353b0-7f56-4258-8a4b-fb4f3059c955",
   "metadata": {},
   "outputs": [],
   "source": [
    "# 21,108 nodes, unresolved\n",
    "cass_T_Fam = from_newick_get_nx_tree('/n/fs/ragr-data/users/palash/multi-linTracer/kp_data/KPTracer-Data/trees/3724_NT_All_tree.nwk')\n",
    "\n",
    "# 1460 nodes, unresolved\n",
    "cass_T_Fam_pruned = from_newick_get_nx_tree('/n/fs/ragr-research/projects/problin_experiments/Real_biodata/data_kptracer/all/3724_NT_All/3724_NT_All_tree_pruned.nwk')\n",
    "\n",
    "# 21,108 nodes, unresolved\n",
    "linTracer_T_Fam = from_newick_get_nx_tree('/n/fs/ragr-research/projects/lineage-tracing-nni/data/kp-tracer/3724_NT_All_published_seed/fixed_nni_tree.nwk')\n",
    "\n",
    "# 1460 nodes, resolved\n",
    "problin_startle = from_newick_get_nx_tree('/n/fs/ragr-research/projects/problin_experiments/Real_biodata/run_kptracer/runjobs/3724_NT_All/problin_startle/EM_problin_startle_toposearch2_rep2._ckpt.208.txt.nwk')\n",
    "\n",
    "# 1460 nodes, unresolved\n",
    "linTracer_T_Fam_pruned = from_newick_get_nx_tree('/n/fs/ragr-research/projects/problin_experiments/Real_biodata/data_kptracer/all/3724_NT_All/fixed_nni_tree_pruned.nwk')\n"
   ]
  },
  {
   "cell_type": "code",
   "execution_count": 11,
   "id": "e61a7087-ac45-40df-b730-179491808016",
   "metadata": {},
   "outputs": [],
   "source": [
    "# 21,108 nodes, unresolved\n",
    "problin_startle_full_tree = from_newick_get_nx_tree('/n/fs/ragr-research/projects/problin_experiments/Real_biodata/notebooks/problin_startle_full_tree.nwk')"
   ]
  },
  {
   "cell_type": "code",
   "execution_count": 12,
   "id": "d0217463-55c7-4a7e-8f8b-0b81b0d46a20",
   "metadata": {},
   "outputs": [],
   "source": [
    "# 21,107 nodes, resolved\n",
    "problin_startle_full_tree_pars_resolved = from_newick_get_nx_tree('problin_startle_full_tree.pars_resolved.nwk')"
   ]
  },
  {
   "cell_type": "code",
   "execution_count": 13,
   "id": "d5316499-66f8-407e-8ae3-ab63e0f54df3",
   "metadata": {},
   "outputs": [],
   "source": [
    "# 21,108 nodes, resolved\n",
    "startle_pars_resolved = from_newick_get_nx_tree('startle.pars_resolved.nwk')"
   ]
  },
  {
   "cell_type": "code",
   "execution_count": 14,
   "id": "8560d029-7e69-4784-aa91-30dfcf0e3a2d",
   "metadata": {},
   "outputs": [],
   "source": [
    "startle_21108 = from_newick_get_nx_tree('startle_full_tree_21108.nwk')\n",
    "problin_21108 = from_newick_get_nx_tree('problin_startle_full_tree_21108.nwk')\n",
    "cassh_21108 = from_newick_get_nx_tree('casshybrid_full_tree_21108.nwk')\n",
    "\n",
    "startle_idr_21108 = from_newick_get_nx_tree('startle_idresolved_21108.nwk')\n",
    "problin_idr_21108 = from_newick_get_nx_tree('problin_startle_idresolved_21108.nwk')\n",
    "cassh_idr_21108 = from_newick_get_nx_tree('casshybrid_idresolved_21108.nwk')\n",
    "\n",
    "# 1461 nodes\n",
    "problin_1461 = from_newick_get_nx_tree('/n/fs/ragr-research/projects/problin_experiments/Real_biodata/run_kptracer/runjobs/3724_NT_All/problin_benchmarks/problin_1461.txt.nwk')\n",
    "startle_1461 = from_newick_get_nx_tree('/n/fs/ragr-research/projects/problin_experiments/Real_biodata/data_kptracer/all/3724_NT_All/pruned/fixed_nni_tree_pruned.nwk')\n",
    "cassh_1461 = from_newick_get_nx_tree('/n/fs/ragr-research/projects/problin_experiments/Real_biodata/data_kptracer/all/3724_NT_All/pruned/casshybrid_tree.nwk')\n"
   ]
  },
  {
   "cell_type": "markdown",
   "id": "770f8d5f-00c7-45a7-b42a-c1f88fe2d7de",
   "metadata": {},
   "source": [
    "# Set up Functions"
   ]
  },
  {
   "cell_type": "code",
   "execution_count": 15,
   "id": "98e3d1d3-92bd-41c6-944c-36e1cc1139d0",
   "metadata": {},
   "outputs": [],
   "source": [
    "\n",
    "def count_transitions(input_tree, cell_site_info, throw_out_identical_sites=True):\n",
    "    num_leaves = 0\n",
    "    for n in input_tree.nodes:\n",
    "        if is_leaf(input_tree, n): \n",
    "            num_leaves += 1\n",
    "    \n",
    "    print(f\"input tree has {len(input_tree.nodes)} nodes and {num_leaves} leaves\")\n",
    "    if throw_out_identical_sites:\n",
    "        input_tree = get_smaller_tree(input_tree, cell_site_info_1)\n",
    "        print(f\"modified tree has {len(input_tree.nodes)} nodes\") \n",
    "    \n",
    "    num_leaves = 0\n",
    "    for n in input_tree.nodes:\n",
    "        if is_leaf(input_tree, n): \n",
    "            num_leaves += 1\n",
    "    print(f\"modified tree has {num_leaves} leaves\")\n",
    "    cost_labeling, count_labeling = count_parsimonious_labelings(input_tree, cell_site_info)\n",
    "    state_list = list(cell_site_info.unique())\n",
    "    nstates = len(state_list)\n",
    "    presence_labeling = {node:[None]*nstates for node in input_tree.nodes}\n",
    "    computeG(input_tree, cell_site_info, state_list, cost_labeling, presence_labeling, 'root')\n",
    "\n",
    "    optimal_labeling = {node:'' for node in input_tree.nodes}\n",
    "\n",
    "    for node in input_tree.nodes:\n",
    "        if presence_labeling[node][0] == 1:\n",
    "            optimal_labeling[node] = 0\n",
    "        else:\n",
    "            optimal_labeling[node] = np.where(presence_labeling[node])[0][0]\n",
    "\n",
    "    num_transitions = Counter()\n",
    "    for edge in input_tree.edges:\n",
    "        if optimal_labeling[edge[0]] != optimal_labeling[edge[1]]:\n",
    "            num_transitions[(optimal_labeling[edge[0]], optimal_labeling[edge[1]])] += 1\n",
    "\n",
    "    return num_transitions, sum(num_transitions.values())\n"
   ]
  },
  {
   "cell_type": "markdown",
   "id": "d67fae96-234b-4216-b94f-6db17e0c85c6",
   "metadata": {},
   "source": [
    "# Full Trees Identically Resolved"
   ]
  },
  {
   "cell_type": "code",
   "execution_count": 16,
   "id": "bd059f7f-256f-43c1-8e27-b473ae7946dc",
   "metadata": {},
   "outputs": [
    {
     "name": "stdout",
     "output_type": "stream",
     "text": [
      "input tree has 24029 nodes and 21108 leaves\n",
      "modified tree has 21108 leaves\n"
     ]
    },
    {
     "data": {
      "text/plain": [
       "(Counter({(0, 4): 72,\n",
       "          (0, 1): 30,\n",
       "          (0, 3): 17,\n",
       "          (1, 0): 150,\n",
       "          (1, 2): 2,\n",
       "          (0, 2): 1244,\n",
       "          (2, 0): 18,\n",
       "          (2, 4): 1,\n",
       "          (3, 1): 1,\n",
       "          (3, 2): 6,\n",
       "          (3, 0): 20,\n",
       "          (1, 4): 2,\n",
       "          (3, 4): 1,\n",
       "          (4, 0): 3,\n",
       "          (1, 3): 1}),\n",
       " 1568)"
      ]
     },
     "execution_count": 16,
     "metadata": {},
     "output_type": "execute_result"
    }
   ],
   "source": [
    "count_transitions(problin_idr_21108, cell_site_info_1, False)"
   ]
  },
  {
   "cell_type": "code",
   "execution_count": 17,
   "id": "411cd99d-8b92-4240-bbb3-a3eb5b0b962a",
   "metadata": {},
   "outputs": [
    {
     "name": "stdout",
     "output_type": "stream",
     "text": [
      "input tree has 23908 nodes and 21108 leaves\n",
      "modified tree has 21108 leaves\n"
     ]
    },
    {
     "data": {
      "text/plain": [
       "(Counter({(0, 1): 21,\n",
       "          (0, 4): 71,\n",
       "          (0, 3): 13,\n",
       "          (1, 0): 173,\n",
       "          (3, 0): 28,\n",
       "          (0, 2): 1261,\n",
       "          (1, 4): 2,\n",
       "          (1, 3): 1,\n",
       "          (1, 2): 2,\n",
       "          (2, 4): 1,\n",
       "          (2, 0): 14,\n",
       "          (4, 0): 4,\n",
       "          (3, 4): 1,\n",
       "          (3, 2): 6,\n",
       "          (3, 1): 1}),\n",
       " 1599)"
      ]
     },
     "execution_count": 17,
     "metadata": {},
     "output_type": "execute_result"
    }
   ],
   "source": [
    "count_transitions(cassh_idr_21108, cell_site_info_1, False)"
   ]
  },
  {
   "cell_type": "code",
   "execution_count": 18,
   "id": "d751e1da-83b0-4545-bb7d-9a93b19eeae8",
   "metadata": {},
   "outputs": [
    {
     "name": "stdout",
     "output_type": "stream",
     "text": [
      "input tree has 22980 nodes and 21108 leaves\n",
      "modified tree has 21108 leaves\n"
     ]
    },
    {
     "data": {
      "text/plain": [
       "(Counter({(0, 1): 21,\n",
       "          (1, 0): 162,\n",
       "          (0, 4): 72,\n",
       "          (0, 3): 15,\n",
       "          (0, 2): 1260,\n",
       "          (1, 2): 2,\n",
       "          (1, 3): 1,\n",
       "          (1, 4): 2,\n",
       "          (3, 0): 24,\n",
       "          (2, 0): 14,\n",
       "          (2, 4): 1,\n",
       "          (3, 1): 1,\n",
       "          (3, 2): 6,\n",
       "          (3, 4): 1,\n",
       "          (4, 0): 3}),\n",
       " 1585)"
      ]
     },
     "execution_count": 18,
     "metadata": {},
     "output_type": "execute_result"
    }
   ],
   "source": [
    "count_transitions(startle_idr_21108, cell_site_info_1, False)"
   ]
  },
  {
   "cell_type": "markdown",
   "id": "26214740-dbf1-43ac-8e65-8b05d1ae5957",
   "metadata": {},
   "source": [
    "# Full Trees Polytomies"
   ]
  },
  {
   "cell_type": "code",
   "execution_count": 19,
   "id": "598189cc-f30c-4b4c-acc2-6da5c25f77b1",
   "metadata": {},
   "outputs": [
    {
     "name": "stdout",
     "output_type": "stream",
     "text": [
      "input tree has 24029 nodes and 21108 leaves\n",
      "modified tree has 21108 leaves\n"
     ]
    },
    {
     "data": {
      "text/plain": [
       "(Counter({(0, 4): 72,\n",
       "          (0, 1): 30,\n",
       "          (0, 3): 17,\n",
       "          (1, 0): 150,\n",
       "          (1, 2): 2,\n",
       "          (0, 2): 1244,\n",
       "          (2, 0): 18,\n",
       "          (2, 4): 1,\n",
       "          (3, 1): 1,\n",
       "          (3, 2): 6,\n",
       "          (3, 0): 20,\n",
       "          (1, 4): 2,\n",
       "          (3, 4): 1,\n",
       "          (4, 0): 3,\n",
       "          (1, 3): 1}),\n",
       " 1568)"
      ]
     },
     "execution_count": 19,
     "metadata": {},
     "output_type": "execute_result"
    }
   ],
   "source": [
    "count_transitions(problin_21108, cell_site_info_1, False)"
   ]
  },
  {
   "cell_type": "code",
   "execution_count": 20,
   "id": "52d05eb6-ee8c-42be-a080-057b3b8f7ca1",
   "metadata": {},
   "outputs": [
    {
     "name": "stdout",
     "output_type": "stream",
     "text": [
      "input tree has 23908 nodes and 21108 leaves\n",
      "modified tree has 21108 leaves\n"
     ]
    },
    {
     "data": {
      "text/plain": [
       "(Counter({(0, 1): 21,\n",
       "          (0, 4): 71,\n",
       "          (0, 3): 13,\n",
       "          (1, 0): 173,\n",
       "          (3, 0): 28,\n",
       "          (0, 2): 1261,\n",
       "          (1, 4): 2,\n",
       "          (1, 3): 1,\n",
       "          (1, 2): 2,\n",
       "          (2, 4): 1,\n",
       "          (2, 0): 14,\n",
       "          (4, 0): 4,\n",
       "          (3, 4): 1,\n",
       "          (3, 2): 6,\n",
       "          (3, 1): 1}),\n",
       " 1599)"
      ]
     },
     "execution_count": 20,
     "metadata": {},
     "output_type": "execute_result"
    }
   ],
   "source": [
    "count_transitions(cassh_21108, cell_site_info_1, False)"
   ]
  },
  {
   "cell_type": "code",
   "execution_count": 21,
   "id": "39c3a3f2-52fa-4a57-aea3-1d5bde02ba1f",
   "metadata": {},
   "outputs": [
    {
     "name": "stdout",
     "output_type": "stream",
     "text": [
      "input tree has 22980 nodes and 21108 leaves\n",
      "modified tree has 21108 leaves\n"
     ]
    },
    {
     "data": {
      "text/plain": [
       "(Counter({(0, 1): 21,\n",
       "          (1, 0): 162,\n",
       "          (0, 4): 72,\n",
       "          (0, 3): 15,\n",
       "          (0, 2): 1260,\n",
       "          (1, 2): 2,\n",
       "          (1, 3): 1,\n",
       "          (1, 4): 2,\n",
       "          (3, 0): 24,\n",
       "          (2, 0): 14,\n",
       "          (2, 4): 1,\n",
       "          (3, 1): 1,\n",
       "          (3, 2): 6,\n",
       "          (3, 4): 1,\n",
       "          (4, 0): 3}),\n",
       " 1585)"
      ]
     },
     "execution_count": 21,
     "metadata": {},
     "output_type": "execute_result"
    }
   ],
   "source": [
    "count_transitions(startle_21108, cell_site_info_1, False)"
   ]
  },
  {
   "cell_type": "markdown",
   "id": "ffe59ed2-cc04-479c-9c05-39de4f494c5e",
   "metadata": {},
   "source": [
    "# 1461 Leaves"
   ]
  },
  {
   "cell_type": "code",
   "execution_count": 22,
   "id": "2e1f0554-1486-4411-a9f8-172fded5484c",
   "metadata": {},
   "outputs": [
    {
     "name": "stdout",
     "output_type": "stream",
     "text": [
      "input tree has 2800 nodes and 1461 leaves\n",
      "modified tree has 1461 leaves\n"
     ]
    },
    {
     "data": {
      "text/plain": [
       "(Counter({(0, 1): 15,\n",
       "          (0, 4): 9,\n",
       "          (0, 3): 7,\n",
       "          (1, 0): 57,\n",
       "          (3, 0): 11,\n",
       "          (0, 2): 36,\n",
       "          (1, 2): 1}),\n",
       " 136)"
      ]
     },
     "execution_count": 22,
     "metadata": {},
     "output_type": "execute_result"
    }
   ],
   "source": [
    "\n",
    "count_transitions(cassh_1461, cell_site_info_1, False)"
   ]
  },
  {
   "cell_type": "code",
   "execution_count": 23,
   "id": "f8c69024-f8b9-472c-a84b-78f26bdfa48f",
   "metadata": {},
   "outputs": [
    {
     "name": "stdout",
     "output_type": "stream",
     "text": [
      "input tree has 2921 nodes and 1461 leaves\n",
      "modified tree has 1461 leaves\n"
     ]
    },
    {
     "data": {
      "text/plain": [
       "(Counter({(0, 4): 9,\n",
       "          (0, 1): 15,\n",
       "          (0, 3): 11,\n",
       "          (1, 0): 37,\n",
       "          (0, 2): 19,\n",
       "          (3, 0): 4,\n",
       "          (2, 0): 3,\n",
       "          (1, 2): 1}),\n",
       " 99)"
      ]
     },
     "execution_count": 23,
     "metadata": {},
     "output_type": "execute_result"
    }
   ],
   "source": [
    "\n",
    "count_transitions(problin_1461, cell_site_info_1, False)"
   ]
  },
  {
   "cell_type": "code",
   "execution_count": 24,
   "id": "28f020a1-ce17-46a9-9e6e-35c5dc722d1b",
   "metadata": {},
   "outputs": [
    {
     "name": "stdout",
     "output_type": "stream",
     "text": [
      "input tree has 1872 nodes and 1461 leaves\n",
      "modified tree has 1461 leaves\n"
     ]
    },
    {
     "data": {
      "text/plain": [
       "(Counter({(0, 1): 9,\n",
       "          (1, 0): 48,\n",
       "          (0, 4): 9,\n",
       "          (0, 3): 9,\n",
       "          (0, 2): 35,\n",
       "          (1, 2): 1,\n",
       "          (3, 0): 8}),\n",
       " 119)"
      ]
     },
     "execution_count": 24,
     "metadata": {},
     "output_type": "execute_result"
    }
   ],
   "source": [
    "\n",
    "count_transitions(startle_1461, cell_site_info_1, False)"
   ]
  },
  {
   "cell_type": "markdown",
   "id": "64240218-81a1-4357-8c9f-3466300322f6",
   "metadata": {},
   "source": [
    "## Cassiopeia-Hybrid (Published)"
   ]
  },
  {
   "cell_type": "code",
   "execution_count": 25,
   "id": "5777f9f5-a0b2-41e7-960a-66695807f364",
   "metadata": {},
   "outputs": [
    {
     "name": "stdout",
     "output_type": "stream",
     "text": [
      "input tree has 22748 nodes and 21108 leaves\n",
      "removing 19548\n",
      "modified tree has 3200 nodes\n",
      "modified tree has 1560 leaves\n"
     ]
    },
    {
     "data": {
      "text/plain": [
       "(Counter({(0, 1): 19,\n",
       "          (0, 4): 15,\n",
       "          (0, 3): 12,\n",
       "          (1, 0): 63,\n",
       "          (0, 2): 85,\n",
       "          (1, 4): 2,\n",
       "          (3, 0): 11,\n",
       "          (1, 2): 2,\n",
       "          (1, 3): 1,\n",
       "          (3, 2): 1,\n",
       "          (3, 4): 1,\n",
       "          (3, 1): 1}),\n",
       " 213)"
      ]
     },
     "execution_count": 25,
     "metadata": {},
     "output_type": "execute_result"
    }
   ],
   "source": [
    "count_transitions(cass_T_Fam, cell_site_info_1, True)"
   ]
  },
  {
   "cell_type": "code",
   "execution_count": 26,
   "id": "9f947636-0115-416f-8799-fdb0463e24a9",
   "metadata": {},
   "outputs": [
    {
     "name": "stdout",
     "output_type": "stream",
     "text": [
      "input tree has 22748 nodes and 21108 leaves\n",
      "modified tree has 21108 leaves\n"
     ]
    },
    {
     "data": {
      "text/plain": [
       "(Counter({(0, 1): 19,\n",
       "          (0, 4): 71,\n",
       "          (0, 3): 13,\n",
       "          (1, 0): 175,\n",
       "          (0, 2): 1261,\n",
       "          (1, 4): 2,\n",
       "          (3, 0): 28,\n",
       "          (1, 2): 2,\n",
       "          (1, 3): 1,\n",
       "          (2, 0): 15,\n",
       "          (2, 4): 1,\n",
       "          (3, 2): 6,\n",
       "          (3, 4): 1,\n",
       "          (4, 0): 4,\n",
       "          (3, 1): 1}),\n",
       " 1600)"
      ]
     },
     "execution_count": 26,
     "metadata": {},
     "output_type": "execute_result"
    }
   ],
   "source": [
    "count_transitions(cass_T_Fam, cell_site_info_1, False)"
   ]
  },
  {
   "cell_type": "code",
   "execution_count": 27,
   "id": "df10945f-798c-4f9c-a526-502e98453ae9",
   "metadata": {},
   "outputs": [
    {
     "name": "stdout",
     "output_type": "stream",
     "text": [
      "input tree has 2798 nodes and 1460 leaves\n",
      "removing 258\n",
      "modified tree has 2540 nodes\n",
      "modified tree has 1202 leaves\n"
     ]
    },
    {
     "data": {
      "text/plain": [
       "(Counter({(0, 1): 12,\n",
       "          (0, 4): 9,\n",
       "          (0, 3): 7,\n",
       "          (1, 0): 50,\n",
       "          (3, 0): 8,\n",
       "          (0, 2): 35,\n",
       "          (1, 2): 1}),\n",
       " 122)"
      ]
     },
     "execution_count": 27,
     "metadata": {},
     "output_type": "execute_result"
    }
   ],
   "source": [
    "count_transitions(cass_T_Fam_pruned, cell_site_info_1, True)"
   ]
  },
  {
   "cell_type": "code",
   "execution_count": 28,
   "id": "987106cb-d227-4939-80d3-4b08bbb08704",
   "metadata": {},
   "outputs": [
    {
     "name": "stdout",
     "output_type": "stream",
     "text": [
      "input tree has 2798 nodes and 1460 leaves\n",
      "modified tree has 1460 leaves\n"
     ]
    },
    {
     "data": {
      "text/plain": [
       "(Counter({(0, 1): 15,\n",
       "          (0, 4): 9,\n",
       "          (0, 3): 7,\n",
       "          (1, 0): 57,\n",
       "          (3, 0): 11,\n",
       "          (0, 2): 36,\n",
       "          (1, 2): 1}),\n",
       " 136)"
      ]
     },
     "execution_count": 28,
     "metadata": {},
     "output_type": "execute_result"
    }
   ],
   "source": [
    "count_transitions(cass_T_Fam_pruned, cell_site_info_1, False)"
   ]
  },
  {
   "cell_type": "markdown",
   "id": "eda9d338-d632-4a9b-89fb-bb4a8db12c17",
   "metadata": {},
   "source": [
    "## Startle (Published)"
   ]
  },
  {
   "cell_type": "code",
   "execution_count": 29,
   "id": "ca0732c7-a4eb-4784-963a-3e849a003741",
   "metadata": {},
   "outputs": [
    {
     "name": "stdout",
     "output_type": "stream",
     "text": [
      "input tree has 21816 nodes and 21108 leaves\n",
      "removing 20317\n",
      "modified tree has 1499 nodes\n",
      "modified tree has 791 leaves\n"
     ]
    },
    {
     "data": {
      "text/plain": [
       "(Counter({(0, 1): 13,\n",
       "          (1, 0): 40,\n",
       "          (0, 3): 13,\n",
       "          (0, 4): 10,\n",
       "          (0, 2): 66,\n",
       "          (1, 3): 1,\n",
       "          (1, 4): 2,\n",
       "          (3, 0): 6,\n",
       "          (1, 2): 1,\n",
       "          (3, 1): 1,\n",
       "          (3, 2): 2,\n",
       "          (3, 4): 1}),\n",
       " 156)"
      ]
     },
     "execution_count": 29,
     "metadata": {},
     "output_type": "execute_result"
    }
   ],
   "source": [
    "count_transitions(linTracer_T_Fam, cell_site_info_1, True)"
   ]
  },
  {
   "cell_type": "code",
   "execution_count": 30,
   "id": "0667dc30-286e-484e-8ba5-d04cafc47d6b",
   "metadata": {},
   "outputs": [
    {
     "name": "stdout",
     "output_type": "stream",
     "text": [
      "input tree has 21816 nodes and 21108 leaves\n",
      "modified tree has 21108 leaves\n"
     ]
    },
    {
     "data": {
      "text/plain": [
       "(Counter({(0, 1): 16,\n",
       "          (1, 0): 356,\n",
       "          (0, 4): 84,\n",
       "          (0, 3): 15,\n",
       "          (0, 2): 1260,\n",
       "          (1, 2): 2,\n",
       "          (1, 3): 1,\n",
       "          (1, 4): 2,\n",
       "          (3, 0): 24,\n",
       "          (2, 0): 14,\n",
       "          (2, 4): 1,\n",
       "          (3, 1): 1,\n",
       "          (3, 2): 6,\n",
       "          (3, 4): 1}),\n",
       " 1783)"
      ]
     },
     "execution_count": 30,
     "metadata": {},
     "output_type": "execute_result"
    }
   ],
   "source": [
    "count_transitions(linTracer_T_Fam, cell_site_info_1, False)"
   ]
  },
  {
   "cell_type": "code",
   "execution_count": 31,
   "id": "969c2035-8293-4dcf-9303-a94b7ff5ab8c",
   "metadata": {},
   "outputs": [
    {
     "name": "stdout",
     "output_type": "stream",
     "text": [
      "input tree has 42487 nodes and 21108 leaves\n",
      "removing 578\n",
      "modified tree has 41909 nodes\n",
      "modified tree has 20530 leaves\n"
     ]
    },
    {
     "data": {
      "text/plain": [
       "(Counter({(0, 1): 15,\n",
       "          (0, 4): 10,\n",
       "          (0, 3): 16,\n",
       "          (0, 2): 66,\n",
       "          (1, 0): 38,\n",
       "          (1, 4): 2,\n",
       "          (3, 1): 1,\n",
       "          (3, 2): 2,\n",
       "          (1, 2): 1,\n",
       "          (3, 0): 3,\n",
       "          (3, 4): 1,\n",
       "          (1, 3): 1}),\n",
       " 156)"
      ]
     },
     "execution_count": 31,
     "metadata": {},
     "output_type": "execute_result"
    }
   ],
   "source": [
    "count_transitions(startle_pars_resolved, cell_site_info_1, True)"
   ]
  },
  {
   "cell_type": "code",
   "execution_count": 32,
   "id": "655d01a8-d886-47d5-8312-2f19818b959b",
   "metadata": {},
   "outputs": [
    {
     "name": "stdout",
     "output_type": "stream",
     "text": [
      "input tree has 42487 nodes and 21108 leaves\n",
      "modified tree has 21108 leaves\n"
     ]
    },
    {
     "data": {
      "text/plain": [
       "(Counter({(0, 1): 15,\n",
       "          (0, 4): 10,\n",
       "          (0, 3): 16,\n",
       "          (0, 2): 66,\n",
       "          (1, 0): 38,\n",
       "          (1, 4): 2,\n",
       "          (3, 1): 1,\n",
       "          (3, 2): 2,\n",
       "          (1, 2): 1,\n",
       "          (3, 0): 3,\n",
       "          (3, 4): 1,\n",
       "          (1, 3): 1}),\n",
       " 156)"
      ]
     },
     "execution_count": 32,
     "metadata": {},
     "output_type": "execute_result"
    }
   ],
   "source": [
    "count_transitions(startle_pars_resolved, cell_site_info_1, False)"
   ]
  },
  {
   "cell_type": "code",
   "execution_count": 33,
   "id": "33dd8b41-4e0b-4a83-81f2-a619c0222d19",
   "metadata": {},
   "outputs": [
    {
     "name": "stdout",
     "output_type": "stream",
     "text": [
      "input tree has 1871 nodes and 1460 leaves\n",
      "removing 1013\n",
      "modified tree has 858 nodes\n",
      "modified tree has 447 leaves\n"
     ]
    },
    {
     "data": {
      "text/plain": [
       "(Counter({(0, 1): 9,\n",
       "          (1, 0): 33,\n",
       "          (0, 4): 8,\n",
       "          (0, 3): 9,\n",
       "          (0, 2): 17,\n",
       "          (1, 2): 1,\n",
       "          (3, 0): 5}),\n",
       " 82)"
      ]
     },
     "execution_count": 33,
     "metadata": {},
     "output_type": "execute_result"
    }
   ],
   "source": [
    "count_transitions(linTracer_T_Fam_pruned, cell_site_info_1, True)"
   ]
  },
  {
   "cell_type": "code",
   "execution_count": 34,
   "id": "e33ee51e-1bfc-4dd4-8e78-da6a60246a00",
   "metadata": {},
   "outputs": [
    {
     "name": "stdout",
     "output_type": "stream",
     "text": [
      "input tree has 1871 nodes and 1460 leaves\n",
      "modified tree has 1460 leaves\n"
     ]
    },
    {
     "data": {
      "text/plain": [
       "(Counter({(0, 1): 9,\n",
       "          (1, 0): 48,\n",
       "          (0, 4): 9,\n",
       "          (0, 3): 9,\n",
       "          (0, 2): 35,\n",
       "          (1, 2): 1,\n",
       "          (3, 0): 8}),\n",
       " 119)"
      ]
     },
     "execution_count": 34,
     "metadata": {},
     "output_type": "execute_result"
    }
   ],
   "source": [
    "count_transitions(linTracer_T_Fam_pruned, cell_site_info_1, False)"
   ]
  },
  {
   "cell_type": "markdown",
   "id": "cf144249-40fe-448a-a2d2-9ba895fcbe87",
   "metadata": {},
   "source": [
    "## Problin-startle"
   ]
  },
  {
   "cell_type": "code",
   "execution_count": 35,
   "id": "4d166222-57b0-4669-a5b6-6c4d0596311d",
   "metadata": {},
   "outputs": [
    {
     "name": "stdout",
     "output_type": "stream",
     "text": [
      "input tree has 2919 nodes and 1460 leaves\n",
      "removing 302\n",
      "modified tree has 2617 nodes\n",
      "modified tree has 1158 leaves\n"
     ]
    },
    {
     "data": {
      "text/plain": [
       "(Counter({(0, 4): 9,\n",
       "          (0, 1): 15,\n",
       "          (0, 3): 11,\n",
       "          (1, 0): 37,\n",
       "          (0, 2): 19,\n",
       "          (3, 0): 4,\n",
       "          (2, 0): 3,\n",
       "          (1, 2): 1}),\n",
       " 99)"
      ]
     },
     "execution_count": 35,
     "metadata": {},
     "output_type": "execute_result"
    }
   ],
   "source": [
    "count_transitions(problin_startle, cell_site_info_1, True)"
   ]
  },
  {
   "cell_type": "code",
   "execution_count": 36,
   "id": "1ff86805-729d-4f26-a252-3bda7e09c87e",
   "metadata": {},
   "outputs": [
    {
     "name": "stdout",
     "output_type": "stream",
     "text": [
      "input tree has 2919 nodes and 1460 leaves\n",
      "modified tree has 1460 leaves\n"
     ]
    },
    {
     "data": {
      "text/plain": [
       "(Counter({(0, 4): 9,\n",
       "          (0, 1): 15,\n",
       "          (0, 3): 11,\n",
       "          (1, 0): 37,\n",
       "          (0, 2): 19,\n",
       "          (3, 0): 4,\n",
       "          (2, 0): 3,\n",
       "          (1, 2): 1}),\n",
       " 99)"
      ]
     },
     "execution_count": 36,
     "metadata": {},
     "output_type": "execute_result"
    }
   ],
   "source": [
    "count_transitions(problin_startle, cell_site_info_1, False)"
   ]
  },
  {
   "cell_type": "code",
   "execution_count": 37,
   "id": "17795e49-32f7-4ed3-b217-ef54ea112c9c",
   "metadata": {},
   "outputs": [
    {
     "name": "stdout",
     "output_type": "stream",
     "text": [
      "input tree has 24026 nodes and 21107 leaves\n",
      "removing 19548\n",
      "modified tree has 4478 nodes\n",
      "modified tree has 1559 leaves\n"
     ]
    },
    {
     "data": {
      "text/plain": [
       "(Counter({(0, 4): 15,\n",
       "          (0, 1): 23,\n",
       "          (0, 3): 15,\n",
       "          (1, 0): 43,\n",
       "          (1, 2): 2,\n",
       "          (0, 2): 65,\n",
       "          (3, 1): 1,\n",
       "          (3, 2): 2,\n",
       "          (3, 0): 4,\n",
       "          (2, 0): 5,\n",
       "          (1, 4): 2,\n",
       "          (3, 4): 1,\n",
       "          (1, 3): 1}),\n",
       " 179)"
      ]
     },
     "execution_count": 37,
     "metadata": {},
     "output_type": "execute_result"
    }
   ],
   "source": [
    "count_transitions(problin_startle_full_tree, cell_site_info_1, True)"
   ]
  },
  {
   "cell_type": "code",
   "execution_count": 38,
   "id": "fae30195-d18d-4534-9019-b07503d5baf9",
   "metadata": {},
   "outputs": [
    {
     "name": "stdout",
     "output_type": "stream",
     "text": [
      "input tree has 24026 nodes and 21107 leaves\n",
      "modified tree has 21107 leaves\n"
     ]
    },
    {
     "data": {
      "text/plain": [
       "(Counter({(0, 4): 72,\n",
       "          (0, 1): 30,\n",
       "          (0, 3): 17,\n",
       "          (1, 0): 150,\n",
       "          (1, 2): 2,\n",
       "          (0, 2): 1244,\n",
       "          (2, 0): 18,\n",
       "          (2, 4): 1,\n",
       "          (3, 1): 1,\n",
       "          (3, 2): 6,\n",
       "          (3, 0): 20,\n",
       "          (1, 4): 2,\n",
       "          (3, 4): 1,\n",
       "          (4, 0): 3,\n",
       "          (1, 3): 1}),\n",
       " 1568)"
      ]
     },
     "execution_count": 38,
     "metadata": {},
     "output_type": "execute_result"
    }
   ],
   "source": [
    "count_transitions(problin_startle_full_tree, cell_site_info_1, False)"
   ]
  },
  {
   "cell_type": "code",
   "execution_count": 39,
   "id": "2c58baca-7dda-42a5-8727-d3600fb2ef48",
   "metadata": {},
   "outputs": [
    {
     "name": "stdout",
     "output_type": "stream",
     "text": [
      "input tree has 43282 nodes and 21107 leaves\n",
      "removing 533\n",
      "modified tree has 42749 nodes\n",
      "modified tree has 20574 leaves\n"
     ]
    },
    {
     "data": {
      "text/plain": [
       "(Counter({(0, 4): 15,\n",
       "          (0, 1): 23,\n",
       "          (0, 3): 15,\n",
       "          (1, 0): 43,\n",
       "          (1, 2): 2,\n",
       "          (0, 2): 65,\n",
       "          (3, 1): 1,\n",
       "          (3, 2): 2,\n",
       "          (3, 0): 4,\n",
       "          (2, 0): 5,\n",
       "          (1, 4): 2,\n",
       "          (3, 4): 1,\n",
       "          (1, 3): 1}),\n",
       " 179)"
      ]
     },
     "execution_count": 39,
     "metadata": {},
     "output_type": "execute_result"
    }
   ],
   "source": [
    "count_transitions(problin_startle_full_tree_pars_resolved, cell_site_info_1, True)"
   ]
  },
  {
   "cell_type": "code",
   "execution_count": 40,
   "id": "78b306cb-2070-429c-bf98-c1a9cce56dcf",
   "metadata": {},
   "outputs": [
    {
     "name": "stdout",
     "output_type": "stream",
     "text": [
      "input tree has 43282 nodes and 21107 leaves\n",
      "modified tree has 21107 leaves\n"
     ]
    },
    {
     "data": {
      "text/plain": [
       "(Counter({(0, 4): 15,\n",
       "          (0, 1): 23,\n",
       "          (0, 3): 15,\n",
       "          (1, 0): 43,\n",
       "          (1, 2): 2,\n",
       "          (0, 2): 65,\n",
       "          (3, 1): 1,\n",
       "          (3, 2): 2,\n",
       "          (3, 0): 4,\n",
       "          (2, 0): 5,\n",
       "          (1, 4): 2,\n",
       "          (3, 4): 1,\n",
       "          (1, 3): 1}),\n",
       " 179)"
      ]
     },
     "execution_count": 40,
     "metadata": {},
     "output_type": "execute_result"
    }
   ],
   "source": [
    "count_transitions(problin_startle_full_tree_pars_resolved, cell_site_info_1, False)"
   ]
  },
  {
   "cell_type": "markdown",
   "id": "1c3c7b8a-e041-4606-9943-a239c16ccb99",
   "metadata": {},
   "source": [
    "## Startle (Pruned to same 1460)"
   ]
  },
  {
   "cell_type": "code",
   "execution_count": 43,
   "id": "17c770cb-12d5-47f0-90d5-276ea2a77499",
   "metadata": {},
   "outputs": [
    {
     "name": "stdout",
     "output_type": "stream",
     "text": [
      "input tree has 1871 nodes and 1460 leaves\n",
      "removing 1013\n",
      "modified tree has 858 nodes\n",
      "modified tree has 447 leaves\n"
     ]
    },
    {
     "data": {
      "text/plain": [
       "(Counter({(0, 1): 9,\n",
       "          (1, 0): 33,\n",
       "          (0, 4): 8,\n",
       "          (0, 3): 9,\n",
       "          (0, 2): 17,\n",
       "          (1, 2): 1,\n",
       "          (3, 0): 5}),\n",
       " 82)"
      ]
     },
     "execution_count": 43,
     "metadata": {},
     "output_type": "execute_result"
    }
   ],
   "source": [
    "count_transitions(linTracer_T_Fam_pruned, cell_site_info_1, True)"
   ]
  },
  {
   "cell_type": "code",
   "execution_count": 44,
   "id": "41d695d2-c872-437c-81e3-81f30ba6ce51",
   "metadata": {},
   "outputs": [
    {
     "name": "stdout",
     "output_type": "stream",
     "text": [
      "input tree has 1871 nodes and 1460 leaves\n",
      "modified tree has 1460 leaves\n"
     ]
    },
    {
     "data": {
      "text/plain": [
       "(Counter({(0, 1): 9,\n",
       "          (1, 0): 48,\n",
       "          (0, 4): 9,\n",
       "          (0, 3): 9,\n",
       "          (0, 2): 35,\n",
       "          (1, 2): 1,\n",
       "          (3, 0): 8}),\n",
       " 119)"
      ]
     },
     "execution_count": 44,
     "metadata": {},
     "output_type": "execute_result"
    }
   ],
   "source": [
    "count_transitions(linTracer_T_Fam_pruned, cell_site_info_1, False)"
   ]
  },
  {
   "cell_type": "code",
   "execution_count": null,
   "id": "ff2e8a9b-0705-43e5-b4b6-30d2f53c01bf",
   "metadata": {},
   "outputs": [],
   "source": []
  },
  {
   "cell_type": "code",
   "execution_count": null,
   "id": "b5cd05c6-1fdc-4c06-bd23-3d518f8182ec",
   "metadata": {},
   "outputs": [],
   "source": []
  }
 ],
 "metadata": {
  "kernelspec": {
   "display_name": "Python 3 (ipykernel)",
   "language": "python",
   "name": "python3"
  },
  "language_info": {
   "codemirror_mode": {
    "name": "ipython",
    "version": 3
   },
   "file_extension": ".py",
   "mimetype": "text/x-python",
   "name": "python",
   "nbconvert_exporter": "python",
   "pygments_lexer": "ipython3",
   "version": "3.9.12"
  }
 },
 "nbformat": 4,
 "nbformat_minor": 5
}
