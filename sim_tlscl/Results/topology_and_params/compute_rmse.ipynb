{
 "cells": [
  {
   "cell_type": "code",
   "execution_count": 21,
   "id": "74d2bbb7",
   "metadata": {},
   "outputs": [],
   "source": [
    "from math import sqrt\n",
    "from statistics import mean, stdev\n",
    "from sklearn.preprocessing import StandardScaler\n",
    "import pandas as pd\n",
    "import numpy as np\n",
    "from collections import defaultdict"
   ]
  },
  {
   "cell_type": "code",
   "execution_count": 22,
   "id": "79a37a7f",
   "metadata": {},
   "outputs": [],
   "source": [
    "datafile = \"problintopo_estmissingparams_merged.txt\"\n",
    "d = pd.read_csv(datafile)"
   ]
  },
  {
   "cell_type": "code",
   "execution_count": 23,
   "id": "e6fe81d5",
   "metadata": {},
   "outputs": [],
   "source": [
    "df_full = d.loc[:, [\"true_phi_value\", \"true_nu_value\", \"cassg_phi\", \"cassg_nu\", \"startle_phi\", \"startle_nu\", \"problin_phi\", \"problin_nu\", \"nj_phi\", \"nj_nu\", \"modelcondition\"]]"
   ]
  },
  {
   "cell_type": "code",
   "execution_count": 24,
   "id": "c6768665",
   "metadata": {},
   "outputs": [
    {
     "data": {
      "text/html": [
       "<div>\n",
       "<style scoped>\n",
       "    .dataframe tbody tr th:only-of-type {\n",
       "        vertical-align: middle;\n",
       "    }\n",
       "\n",
       "    .dataframe tbody tr th {\n",
       "        vertical-align: top;\n",
       "    }\n",
       "\n",
       "    .dataframe thead th {\n",
       "        text-align: right;\n",
       "    }\n",
       "</style>\n",
       "<table border=\"1\" class=\"dataframe\">\n",
       "  <thead>\n",
       "    <tr style=\"text-align: right;\">\n",
       "      <th></th>\n",
       "      <th>true_phi_value</th>\n",
       "      <th>true_nu_value</th>\n",
       "      <th>cassg_phi</th>\n",
       "      <th>cassg_nu</th>\n",
       "      <th>startle_phi</th>\n",
       "      <th>startle_nu</th>\n",
       "      <th>problin_phi</th>\n",
       "      <th>problin_nu</th>\n",
       "      <th>nj_phi</th>\n",
       "      <th>nj_nu</th>\n",
       "      <th>modelcondition</th>\n",
       "    </tr>\n",
       "  </thead>\n",
       "  <tbody>\n",
       "    <tr>\n",
       "      <th>0</th>\n",
       "      <td>0.250</td>\n",
       "      <td>0.000</td>\n",
       "      <td>0.258660</td>\n",
       "      <td>0.000020</td>\n",
       "      <td>0.258664</td>\n",
       "      <td>0.000007</td>\n",
       "      <td>0.258664</td>\n",
       "      <td>0.000010</td>\n",
       "      <td>0.258665</td>\n",
       "      <td>0.000004</td>\n",
       "      <td>s0d100</td>\n",
       "    </tr>\n",
       "    <tr>\n",
       "      <th>1</th>\n",
       "      <td>0.250</td>\n",
       "      <td>0.000</td>\n",
       "      <td>0.257862</td>\n",
       "      <td>0.000014</td>\n",
       "      <td>0.257865</td>\n",
       "      <td>0.000005</td>\n",
       "      <td>0.257865</td>\n",
       "      <td>0.000006</td>\n",
       "      <td>0.257865</td>\n",
       "      <td>0.000005</td>\n",
       "      <td>s0d100</td>\n",
       "    </tr>\n",
       "    <tr>\n",
       "      <th>2</th>\n",
       "      <td>0.250</td>\n",
       "      <td>0.000</td>\n",
       "      <td>0.251273</td>\n",
       "      <td>0.004407</td>\n",
       "      <td>0.253057</td>\n",
       "      <td>0.000027</td>\n",
       "      <td>0.253000</td>\n",
       "      <td>0.000178</td>\n",
       "      <td>0.253066</td>\n",
       "      <td>0.000003</td>\n",
       "      <td>s0d100</td>\n",
       "    </tr>\n",
       "    <tr>\n",
       "      <th>3</th>\n",
       "      <td>0.250</td>\n",
       "      <td>0.000</td>\n",
       "      <td>0.253596</td>\n",
       "      <td>0.000011</td>\n",
       "      <td>0.253599</td>\n",
       "      <td>0.000004</td>\n",
       "      <td>0.253599</td>\n",
       "      <td>0.000003</td>\n",
       "      <td>0.253599</td>\n",
       "      <td>0.000004</td>\n",
       "      <td>s0d100</td>\n",
       "    </tr>\n",
       "    <tr>\n",
       "      <th>4</th>\n",
       "      <td>0.250</td>\n",
       "      <td>0.000</td>\n",
       "      <td>0.254280</td>\n",
       "      <td>0.000667</td>\n",
       "      <td>0.253407</td>\n",
       "      <td>0.003133</td>\n",
       "      <td>0.251910</td>\n",
       "      <td>0.006818</td>\n",
       "      <td>0.254520</td>\n",
       "      <td>0.000037</td>\n",
       "      <td>s0d100</td>\n",
       "    </tr>\n",
       "    <tr>\n",
       "      <th>...</th>\n",
       "      <td>...</td>\n",
       "      <td>...</td>\n",
       "      <td>...</td>\n",
       "      <td>...</td>\n",
       "      <td>...</td>\n",
       "      <td>...</td>\n",
       "      <td>...</td>\n",
       "      <td>...</td>\n",
       "      <td>...</td>\n",
       "      <td>...</td>\n",
       "      <td>...</td>\n",
       "    </tr>\n",
       "    <tr>\n",
       "      <th>245</th>\n",
       "      <td>0.077</td>\n",
       "      <td>0.208</td>\n",
       "      <td>0.065253</td>\n",
       "      <td>0.248790</td>\n",
       "      <td>0.068509</td>\n",
       "      <td>0.248709</td>\n",
       "      <td>0.065375</td>\n",
       "      <td>0.217146</td>\n",
       "      <td>0.067638</td>\n",
       "      <td>0.244938</td>\n",
       "      <td>s75d25</td>\n",
       "    </tr>\n",
       "    <tr>\n",
       "      <th>246</th>\n",
       "      <td>0.077</td>\n",
       "      <td>0.208</td>\n",
       "      <td>0.076213</td>\n",
       "      <td>0.245166</td>\n",
       "      <td>0.090042</td>\n",
       "      <td>0.222313</td>\n",
       "      <td>0.085067</td>\n",
       "      <td>0.198516</td>\n",
       "      <td>0.080965</td>\n",
       "      <td>0.252948</td>\n",
       "      <td>s75d25</td>\n",
       "    </tr>\n",
       "    <tr>\n",
       "      <th>247</th>\n",
       "      <td>0.077</td>\n",
       "      <td>0.208</td>\n",
       "      <td>0.065032</td>\n",
       "      <td>0.264448</td>\n",
       "      <td>0.074050</td>\n",
       "      <td>0.244056</td>\n",
       "      <td>0.067893</td>\n",
       "      <td>0.229035</td>\n",
       "      <td>0.070194</td>\n",
       "      <td>0.249858</td>\n",
       "      <td>s75d25</td>\n",
       "    </tr>\n",
       "    <tr>\n",
       "      <th>248</th>\n",
       "      <td>0.077</td>\n",
       "      <td>0.208</td>\n",
       "      <td>0.070395</td>\n",
       "      <td>0.265763</td>\n",
       "      <td>0.078659</td>\n",
       "      <td>0.253501</td>\n",
       "      <td>0.070611</td>\n",
       "      <td>0.244739</td>\n",
       "      <td>0.067231</td>\n",
       "      <td>0.279421</td>\n",
       "      <td>s75d25</td>\n",
       "    </tr>\n",
       "    <tr>\n",
       "      <th>249</th>\n",
       "      <td>0.077</td>\n",
       "      <td>0.208</td>\n",
       "      <td>0.055855</td>\n",
       "      <td>0.278140</td>\n",
       "      <td>0.077584</td>\n",
       "      <td>0.239300</td>\n",
       "      <td>0.070613</td>\n",
       "      <td>0.222372</td>\n",
       "      <td>0.070708</td>\n",
       "      <td>0.263852</td>\n",
       "      <td>s75d25</td>\n",
       "    </tr>\n",
       "  </tbody>\n",
       "</table>\n",
       "<p>250 rows × 11 columns</p>\n",
       "</div>"
      ],
      "text/plain": [
       "     true_phi_value  true_nu_value  cassg_phi  cassg_nu  startle_phi   \n",
       "0             0.250          0.000   0.258660  0.000020     0.258664  \\\n",
       "1             0.250          0.000   0.257862  0.000014     0.257865   \n",
       "2             0.250          0.000   0.251273  0.004407     0.253057   \n",
       "3             0.250          0.000   0.253596  0.000011     0.253599   \n",
       "4             0.250          0.000   0.254280  0.000667     0.253407   \n",
       "..              ...            ...        ...       ...          ...   \n",
       "245           0.077          0.208   0.065253  0.248790     0.068509   \n",
       "246           0.077          0.208   0.076213  0.245166     0.090042   \n",
       "247           0.077          0.208   0.065032  0.264448     0.074050   \n",
       "248           0.077          0.208   0.070395  0.265763     0.078659   \n",
       "249           0.077          0.208   0.055855  0.278140     0.077584   \n",
       "\n",
       "     startle_nu  problin_phi  problin_nu    nj_phi     nj_nu modelcondition  \n",
       "0      0.000007     0.258664    0.000010  0.258665  0.000004         s0d100  \n",
       "1      0.000005     0.257865    0.000006  0.257865  0.000005         s0d100  \n",
       "2      0.000027     0.253000    0.000178  0.253066  0.000003         s0d100  \n",
       "3      0.000004     0.253599    0.000003  0.253599  0.000004         s0d100  \n",
       "4      0.003133     0.251910    0.006818  0.254520  0.000037         s0d100  \n",
       "..          ...          ...         ...       ...       ...            ...  \n",
       "245    0.248709     0.065375    0.217146  0.067638  0.244938         s75d25  \n",
       "246    0.222313     0.085067    0.198516  0.080965  0.252948         s75d25  \n",
       "247    0.244056     0.067893    0.229035  0.070194  0.249858         s75d25  \n",
       "248    0.253501     0.070611    0.244739  0.067231  0.279421         s75d25  \n",
       "249    0.239300     0.070613    0.222372  0.070708  0.263852         s75d25  \n",
       "\n",
       "[250 rows x 11 columns]"
      ]
     },
     "execution_count": 24,
     "metadata": {},
     "output_type": "execute_result"
    }
   ],
   "source": [
    "df_full"
   ]
  },
  {
   "cell_type": "code",
   "execution_count": 25,
   "id": "0817b961",
   "metadata": {},
   "outputs": [
    {
     "name": "stdout",
     "output_type": "stream",
     "text": [
      "{'s0d100': [0.25, 0.0], 's100d0': [0.0, 0.28800000000000003], 's25d75': [0.19999999999999996, 0.065], 's50d50': [0.143, 0.134], 's75d25': [0.077, 0.20800000000000002]}\n"
     ]
    }
   ],
   "source": [
    "true_values = dict()\n",
    "for mc, mdf in df_full[['true_phi_value', 'true_nu_value', 'modelcondition']].groupby(['modelcondition']):\n",
    "    mc = mc[0]\n",
    "    s = mdf[['true_phi_value', 'true_nu_value']].mean(axis=0)\n",
    "    true_values[mc] = [s[0], s[1]]\n",
    "\n",
    "print(true_values)"
   ]
  },
  {
   "cell_type": "markdown",
   "id": "e7083b60",
   "metadata": {},
   "source": [
    "# Calculate Euclidean distance"
   ]
  },
  {
   "cell_type": "code",
   "execution_count": 26,
   "id": "30e81a2e",
   "metadata": {},
   "outputs": [
    {
     "name": "stdout",
     "output_type": "stream",
     "text": [
      "don't split by model condition\n"
     ]
    }
   ],
   "source": [
    "print(\"don't split by model condition\")\n",
    "results = dict()\n",
    "df = df_full\n",
    "\n",
    "phi = pd.concat([df['cassg_phi'], df['startle_phi'], df['startle_phi'], df['nj_phi']])  \n",
    "nu = pd.concat([df['cassg_nu'], df['startle_nu'], df['startle_nu'], df['nj_nu']])  \n"
   ]
  },
  {
   "cell_type": "code",
   "execution_count": 27,
   "id": "ec883d97",
   "metadata": {},
   "outputs": [],
   "source": [
    "results = defaultdict(dict)\n",
    "features = ['phi', 'nu']\n",
    "method_map = defaultdict(list)\n"
   ]
  },
  {
   "cell_type": "code",
   "execution_count": 28,
   "id": "2e22e409",
   "metadata": {},
   "outputs": [],
   "source": [
    "method_map['cassg'].append([x for x in df['cassg_phi']])\n",
    "method_map['cassg'].append([x for x in df['cassg_nu']])\n",
    "\n",
    "method_map['startle'].append([x for x in df['startle_phi']])\n",
    "method_map['startle'].append([x for x in df['startle_nu']])\n",
    "\n",
    "method_map['problin'].append([x for x in df['problin_phi']])\n",
    "method_map['problin'].append([x for x in df['problin_nu']])\n",
    "\n",
    "method_map['nj'].append([x for x in df['nj_phi']])\n",
    "method_map['nj'].append([x for x in df['nj_nu']])"
   ]
  },
  {
   "cell_type": "code",
   "execution_count": 29,
   "id": "6812b521",
   "metadata": {},
   "outputs": [
    {
     "data": {
      "text/plain": [
       "{'s0d100': [0.25, 0.0],\n",
       " 's100d0': [0.0, 0.28800000000000003],\n",
       " 's25d75': [0.19999999999999996, 0.065],\n",
       " 's50d50': [0.143, 0.134],\n",
       " 's75d25': [0.077, 0.20800000000000002]}"
      ]
     },
     "execution_count": 29,
     "metadata": {},
     "output_type": "execute_result"
    }
   ],
   "source": [
    "true_values"
   ]
  },
  {
   "cell_type": "code",
   "execution_count": 30,
   "id": "58106cc1",
   "metadata": {},
   "outputs": [],
   "source": [
    "mc_mappings = {0:'s0d100', 1:'s100d0', 2:'s25d75', 3:'s50d50', 4:'s75d25'}"
   ]
  },
  {
   "cell_type": "code",
   "execution_count": 31,
   "id": "26d6f1f6",
   "metadata": {},
   "outputs": [],
   "source": [
    "def dist(p1, p2):\n",
    "    [xi, yi], [xi_hat, yi_hat] = p1, p2\n",
    "    return sqrt((xi - xi_hat)**2 + (yi - yi_hat)**2)"
   ]
  },
  {
   "cell_type": "code",
   "execution_count": 33,
   "id": "4c2726bf",
   "metadata": {},
   "outputs": [
    {
     "name": "stdout",
     "output_type": "stream",
     "text": [
      "cassg\n",
      "method:cassg, modelcond:s0d100, dist:0.005725073141834611\n",
      "method:cassg, modelcond:s100d0, dist:0.042069397266385894\n",
      "method:cassg, modelcond:s25d75, dist:0.020655939870476814\n",
      "method:cassg, modelcond:s50d50, dist:0.03472474162658097\n",
      "method:cassg, modelcond:s75d25, dist:0.05326858382582422\n",
      "startle\n",
      "method:startle, modelcond:s0d100, dist:0.004838454822407907\n",
      "method:startle, modelcond:s100d0, dist:0.050691228465384805\n",
      "method:startle, modelcond:s25d75, dist:0.01588911382219392\n",
      "method:startle, modelcond:s50d50, dist:0.021444879676975215\n",
      "method:startle, modelcond:s75d25, dist:0.039637435552470374\n",
      "problin\n",
      "method:problin, modelcond:s0d100, dist:0.005198507735540967\n",
      "method:problin, modelcond:s100d0, dist:0.015975956078713976\n",
      "method:problin, modelcond:s25d75, dist:0.015794694961357533\n",
      "method:problin, modelcond:s50d50, dist:0.01809981414571279\n",
      "method:problin, modelcond:s75d25, dist:0.026749650088987307\n",
      "nj\n",
      "method:nj, modelcond:s0d100, dist:0.004811102340096712\n",
      "method:nj, modelcond:s100d0, dist:0.04696419716772882\n",
      "method:nj, modelcond:s25d75, dist:0.016490143386449947\n",
      "method:nj, modelcond:s50d50, dist:0.02470184938535096\n",
      "method:nj, modelcond:s75d25, dist:0.05570539096748266\n"
     ]
    }
   ],
   "source": [
    "for method in method_map:\n",
    "    print(method)\n",
    "    # phi, nu\n",
    "    x, y = method_map[method]\n",
    "\n",
    "    for i in range(5): \n",
    "        # model condition\n",
    "        xx = x[i*50: (i+1)*50] # phi\n",
    "        yy = y[i*50: (i+1)*50] # nu\n",
    "        \n",
    "        t = 0\n",
    "        for j in range(50):\n",
    "            # sample idx\n",
    "            d = dist([xx[j], yy[j]], true_values[mc_mappings[i]])\n",
    "            t += d**2\n",
    "        t = sqrt(t/50)\n",
    "        print(f'method:{method}, modelcond:{mc_mappings[i]}, dist:{t}')\n"
   ]
  },
  {
   "cell_type": "code",
   "execution_count": 34,
   "id": "c73aa5c3",
   "metadata": {},
   "outputs": [
    {
     "data": {
      "text/plain": [
       "array(['s0d100', 's100d0', 's25d75', 's50d50', 's75d25'], dtype=object)"
      ]
     },
     "execution_count": 34,
     "metadata": {},
     "output_type": "execute_result"
    }
   ],
   "source": [
    "df['modelcondition'].unique()"
   ]
  },
  {
   "cell_type": "code",
   "execution_count": 35,
   "id": "41fb3bcd",
   "metadata": {},
   "outputs": [
    {
     "data": {
      "text/plain": [
       "array(['s0d100', 's100d0', 's25d75', 's50d50', 's75d25'], dtype=object)"
      ]
     },
     "execution_count": 35,
     "metadata": {},
     "output_type": "execute_result"
    }
   ],
   "source": [
    "df_full['modelcondition'].unique()"
   ]
  },
  {
   "cell_type": "code",
   "execution_count": null,
   "id": "ea201c2c",
   "metadata": {},
   "outputs": [],
   "source": []
  }
 ],
 "metadata": {
  "kernelspec": {
   "display_name": "Python 3 (ipykernel)",
   "language": "python",
   "name": "python3"
  },
  "language_info": {
   "codemirror_mode": {
    "name": "ipython",
    "version": 3
   },
   "file_extension": ".py",
   "mimetype": "text/x-python",
   "name": "python",
   "nbconvert_exporter": "python",
   "pygments_lexer": "ipython3",
   "version": "3.11.4"
  }
 },
 "nbformat": 4,
 "nbformat_minor": 5
}
